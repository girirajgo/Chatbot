{
  "nbformat": 4,
  "nbformat_minor": 0,
  "metadata": {
    "colab": {
      "name": "Untitled5.ipynb",
      "provenance": [],
      "authorship_tag": "ABX9TyOe6hGX0FO+TraXPmDj8XVP",
      "include_colab_link": true
    },
    "kernelspec": {
      "name": "python3",
      "display_name": "Python 3"
    }
  },
  "cells": [
    {
      "cell_type": "markdown",
      "metadata": {
        "id": "view-in-github",
        "colab_type": "text"
      },
      "source": [
        "<a href=\"https://colab.research.google.com/github/girirajgo/Chatbot/blob/master/Chatbot%20using%20Chatterbot%20Python.ipynb\" target=\"_parent\"><img src=\"https://colab.research.google.com/assets/colab-badge.svg\" alt=\"Open In Colab\"/></a>"
      ]
    },
    {
      "cell_type": "code",
      "metadata": {
        "id": "BMEMjLntId7E",
        "colab_type": "code",
        "colab": {}
      },
      "source": [
        "pip install chatterbot\n"
      ],
      "execution_count": null,
      "outputs": []
    },
    {
      "cell_type": "code",
      "metadata": {
        "id": "KrcZePPyJ4RU",
        "colab_type": "code",
        "colab": {}
      },
      "source": [
        "!pip install chatterbot_corpus"
      ],
      "execution_count": null,
      "outputs": []
    },
    {
      "cell_type": "code",
      "metadata": {
        "id": "OqUVKYVQJ_Cj",
        "colab_type": "code",
        "colab": {}
      },
      "source": [
        "from chatterbot import *"
      ],
      "execution_count": 1,
      "outputs": []
    },
    {
      "cell_type": "code",
      "metadata": {
        "id": "KYPpYF19KICs",
        "colab_type": "code",
        "colab": {}
      },
      "source": [
        "from chatterbot.trainers import ChatterBotCorpusTrainer\n",
        "chatbot =ChatBot(\"Dhanno\")\n",
        "trainer = ChatterBotCorpusTrainer(chatbot)\n",
        "trainer.train(\"chatterbot.corpus.english\")\n",
        "while True:\n",
        "  request=input('You: ')\n",
        "  response=chatbot.get_response(request)\n",
        "  print('Bot: ',response)"
      ],
      "execution_count": null,
      "outputs": []
    },
    {
      "cell_type": "code",
      "metadata": {
        "id": "9KbeWbfAKvRj",
        "colab_type": "code",
        "colab": {}
      },
      "source": [
        ""
      ],
      "execution_count": null,
      "outputs": []
    }
  ]
}